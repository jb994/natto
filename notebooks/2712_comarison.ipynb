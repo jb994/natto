{
 "cells": [
  {
   "cell_type": "code",
   "execution_count": null,
   "id": "3c56cbad-0760-4c3b-b3f4-8ee04903d520",
   "metadata": {},
   "outputs": [],
   "source": [
    "# optimize pp and pca_number\n",
    "%load_ext autoreload\n",
    "%autoreload 2\n",
    "%config Completer.use_jedi = True\n",
    "\n",
    "import matplotlib as mpl\n",
    "mpl.rc(\"figure\", dpi=200)"
   ]
  },
  {
   "cell_type": "code",
   "execution_count": null,
   "id": "8c5257cb-d81b-4304-ab4b-dbc1b6a48656",
   "metadata": {},
   "outputs": [],
   "source": [
    "%time \n",
    "# load the data\n",
    "from natto import input \n",
    "from natto import process\n",
    "from ubergauss import tools\n",
    "import numpy as np\n",
    "\n",
    "\n",
    "def loadandgo(n,pp='natto'):\n",
    "    data = input.load100(n,path = '/home/ubuntu/repos/natto/natto/data',remove_unlabeled=True)\n",
    "    gs= process.annotate_genescores(data, mingenes = 200, selector = pp)\n",
    "    #gs.X = np.expm1(gs.X)\n",
    "    return gs \n",
    "\n",
    "#annotated = \n",
    "from ubergauss import tools\n",
    "names = input.get41names()#[:6]\n",
    "dists = tools.loadfile('dist41.dmp')\n",
    "#np.fill_diagonal(dists,-999)"
   ]
  },
  {
   "cell_type": "code",
   "execution_count": null,
   "id": "bca04dae-4e12-466b-828d-25dcd8b2da09",
   "metadata": {},
   "outputs": [],
   "source": []
  },
  {
   "cell_type": "code",
   "execution_count": null,
   "id": "c98c25e0-7b4d-4db5-ab30-65ba0064abf4",
   "metadata": {
    "tags": []
   },
   "outputs": [],
   "source": [
    "from natto.optimize.x40 import assign \n",
    "from sklearn.metrics import adjusted_rand_score\n",
    "from functools import partial\n",
    "import scanpy as sc\n",
    "from natto.tools import compare\n",
    "\n",
    "def score(arg):\n",
    "    a1,a2 = arg\n",
    "    '''\n",
    "    propagate labels\n",
    "    score \n",
    "    '''\n",
    "    scores = []\n",
    "    for i in range(3):\n",
    "        minobs = min(a1.X.shape[0], a2.X.shape[0])\n",
    "        n_obs = min(1500, minobs)\n",
    "        b1 = sc.pp.subsample(a1, copy=True, n_obs = n_obs)\n",
    "        b2 = sc.pp.subsample(a2, copy=True, n_obs = n_obs)\n",
    "        m=process.merge([b1,b2],umaps=[], pca=20, sortfield=1) # sorting is important for hungonly :) \n",
    "\n",
    "        defuse_and_score_fixed_neighbors = partial(assign.diffuseandscore, neighbors = 80)\n",
    "        \n",
    "        scorez = [ f(m.data[0].obs['true'],\n",
    "                                       m.data[1].obs['true'],\n",
    "                                       m.projections[1]) for f in \n",
    "                        [defuse_and_score_fixed_neighbors,\n",
    "                         compare.score1nn,compare.hungonly, compare.labelprobonly]]\n",
    "        \n",
    "        scores.append(scorez)\n",
    "        \n",
    "    return np.mean(scores, axis = 0)\n",
    "    \n",
    "scrs = []\n",
    "for pp in \"natto seurat_v3 cell_ranger seurat\".split()[:1]:\n",
    "    f= partial(loadandgo, pp=pp)\n",
    "    adataL = tools.xmap(f,names)\n",
    "    scores = tools.xmap(score, ( (adataL[i], adataL[np.argmax(dists[i])])  for i in range(len(names)) ))\n",
    "    scrs.append(np.mean(scores, axis  = 0))\n",
    "\n",
    "print(scrs) \n",
    "\n",
    "'''\n",
    "ours: 15 # was at 50 \n",
    "1nn: 23 \n",
    "hungarianonly 15\n",
    "labelpropagation: 0 \n",
    "'''"
   ]
  },
  {
   "cell_type": "code",
   "execution_count": null,
   "id": "467c0d0e-393a-410f-b5bc-2309c439923e",
   "metadata": {},
   "outputs": [],
   "source": [
    "assign.opti()"
   ]
  },
  {
   "cell_type": "code",
   "execution_count": null,
   "id": "40d36b41-decc-4b41-adf4-c05ffd28c3b8",
   "metadata": {},
   "outputs": [],
   "source": []
  }
 ],
 "metadata": {
  "kernelspec": {
   "display_name": "Python 3 (ipykernel)",
   "language": "python",
   "name": "python3"
  },
  "language_info": {
   "codemirror_mode": {
    "name": "ipython",
    "version": 3
   },
   "file_extension": ".py",
   "mimetype": "text/x-python",
   "name": "python",
   "nbconvert_exporter": "python",
   "pygments_lexer": "ipython3",
   "version": "3.8.5"
  }
 },
 "nbformat": 4,
 "nbformat_minor": 5
}
