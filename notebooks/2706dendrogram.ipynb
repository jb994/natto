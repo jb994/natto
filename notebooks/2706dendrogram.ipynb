{
 "cells": [
  {
   "cell_type": "code",
   "execution_count": null,
   "id": "5afe7c95-e51d-4265-8010-1d1384a22d18",
   "metadata": {},
   "outputs": [],
   "source": [
    "%load_ext autoreload\n",
    "%autoreload 2\n",
    "%config Completer.use_jedi = True\n",
    "\n",
    "import matplotlib as mpl\n",
    "mpl.rc(\"figure\", dpi=200)"
   ]
  },
  {
   "cell_type": "code",
   "execution_count": null,
   "id": "1ba53603-13b2-47e6-8c02-fac31287d1b1",
   "metadata": {
    "tags": []
   },
   "outputs": [],
   "source": [
    "# load the data\n",
    "from natto import input \n",
    "from natto import process\n",
    "from ubergauss import tools\n",
    "from lmz import *\n",
    "\n",
    "names = ['Bonemarrow_10xchromium_SRA779509-SRS3805245_6248',\n",
    " 'Bonemarrow_10xchromium_SRA779509-SRS3805255_7559',\n",
    " 'Bonemarrow_10xchromium_SRA779509-SRS3805258_5683',\n",
    " 'Bonemarrow_10xchromium_SRA779509-SRS3805262_6431',\n",
    " 'Bonemarrow_10xchromium_SRA779509-SRS3805266_6210',\n",
    " 'Colon_10xchromium_SRA703206-SRS3296611_4826',\n",
    " 'Colon_10xchromium_SRA703206-SRS3296612_6476',\n",
    " 'Colon_10xchromium_SRA728025-SRS3454425_3429',\n",
    " 'Colon_10xchromium_SRA728025-SRS3454426_3423',\n",
    " 'Colon_10xchromium_SRA728025-SRS3454428_5459',\n",
    " 'Colon_10xchromium_SRA728025-SRS3454430_4910',\n",
    " 'Cordblood_10xchromium_SRA769148-SRS3747193_2674',\n",
    " 'Cordblood_10xchromium_SRA769148-SRS3747194_2581',\n",
    " 'Cordblood_10xchromium_SRA769148-SRS3747195_2160',\n",
    " 'Cordblood_10xchromium_SRA769148-SRS3747196_2292',\n",
    " 'Cordblood_10xchromium_SRA769148-SRS3747197_2500',\n",
    " 'Cordblood_10xchromium_SRA769148-SRS3747198_3906',\n",
    " 'Kaposissarcoma_10xchromium_SRA843432-SRS4322341_3493',\n",
    " 'Kaposissarcoma_10xchromium_SRA843432-SRS4322342_3372',\n",
    " 'Kaposissarcoma_10xchromium_SRA4306',\n",
    " 'Kaposissarcoma_10xchromium_SRA843432-SRS4322345_3718',\n",
    " 'Kaposissarcoma_10xchromium_SRA843432-SRS4322346_4479',\n",
    " 'Ovariantumor_10xchromium_SRA634975-SRS2724911_2547',\n",
    " 'Ovariantumor_10xchromium_SRA634975-SRS2724912_2139',\n",
    " 'Ovariantumor_10xchromium_SRA634975-SRS2724913_2262',\n",
    " 'Ovariantumor_10xchromium_SRA634975-SRS2724914_2094',\n",
    " 'Prostate_10xchromium_SRA742961-SRS3565195_6101',\n",
    " 'Prostate_10xchromium_SRA742961-SRS3565196_7789',\n",
    " 'Prostate_10xchromium_SRA742961-SRS3565197_11468',\n",
    " 'Prostate_10xchromium_SRA742961-SRS3565198_7718',\n",
    " 'Prostate_10xchromium_SRA742961-SRS3565199_8069',\n",
    " 'Prostate_10xchromium_SRA742961-SRS3565201_7479',\n",
    " 'Prostate_10xchromium_SRA742961-SRS3565203_6453',\n",
    " 'Prostate_10xchromium_SRA742961-SRS3565206_6950',\n",
    " 'Prostate_10xchromium_SRA742961-SRS3565208_8538',\n",
    " 'Prostate_10xchromium_SRA742961-SRS3565211_6264',\n",
    " 'Tcells_10xchromium_SRA665712-SRS3034950_10979',\n",
    " 'Tcells_10xchromium_SRA665712-SRS3034951_14332',\n",
    " 'Tcells_10xchromium_SRA665712-SRS3034953_12974',\n",
    " 'Tcells_10xchromium_SRA814476-SRS4073850_1975',\n",
    " 'Tcells_drop-seq_SRA867342-SRS4550172_4068',\n",
    " 'Tcells_drop-seq_SRA867342-SRS4550173_2768',\n",
    " 'Testicle_10xchromium_SRA667709-SRS3065427_3045',\n",
    " 'Testicle_10xchromium_SRA667709-SRS3065428_3007',\n",
    " 'Testicle_10xchromium_SRA667709-SRS3065429_3066',\n",
    " 'Testicle_10xchromium_SRA667709-SRS3065430_4020',\n",
    " 'Testicle_10xchromium_SRA667709-SRS3065431_3586',\n",
    " 'Testis_10xchromium_SRA645804-SRS2823404_4197',\n",
    " 'Testis_10xchromium_SRA645804-SRS2823405_3598',\n",
    " 'Testis_10xchromium_SRA645804-SRS2823406_3989',\n",
    " 'Testis_10xchromium_SRA645804-SRS2823407_4046',\n",
    " 'Testis_10xchromium_SRA645804-SRS2823408_4306',\n",
    " 'Testis_10xchromium_SRA645804-SRS2823409_4791',\n",
    " 'Testis_10xchromium_SRA645804-SRS2823410_4045',\n",
    " 'Testis_10xchromium_SRA645804-SRS2823412_5299',\n",
    " 'Testis_10xchromium_SRA645804-SRS3572594_4574']\n",
    "\n",
    "bonus =  [ 'Testicle_10xchromium_SRA667709-SRS3065427_3045',\n",
    " 'Testicle_10xchromium_SRA667709-SRS3065428_3007',\n",
    " 'Testicle_10xchromium_SRA667709-SRS3065429_3066',\n",
    " 'Testicle_10xchromium_SRA667709-SRS3065430_4020',\n",
    " 'Testicle_10xchromium_SRA667709-SRS3065431_3586', 'Cordblood_10xchromium_SRA769148-SRS3747193_2674',\n",
    " 'Cordblood_10xchromium_SRA769148-SRS3747194_2581',\n",
    " 'Cordblood_10xchromium_SRA769148-SRS3747195_2160',\n",
    " 'Cordblood_10xchromium_SRA769148-SRS3747196_2292',\n",
    " 'Cordblood_10xchromium_SRA769148-SRS3747197_2500',\n",
    " 'Cordblood_10xchromium_SRA769148-SRS3747198_3906']\n",
    "\n",
    "import scanpy as sc\n",
    "\n",
    "names = [a for a in input.get40names() + bonus if not a.startswith('Place')]\n",
    "print(names)\n",
    "\n",
    "\n",
    "names = input.get40names()  # usually 41 but i am debugging here...\n",
    "def loadandgo(n):\n",
    "    data = input.load100(n,path = '/home/ubuntu/repos/natto/natto/data')\n",
    "    sc.pp.filter_cells(data, min_genes= 200, inplace=True)\n",
    "    #sc.pp.subsample(data,n_obs = 1500)\n",
    "    data.name = n\n",
    "    return data\n",
    "    #return process.annotate_genescores(data, mingenes = 1000)      \n",
    "\n",
    "annotated = tools.xmap(loadandgo,names)\n",
    "\n"
   ]
  },
  {
   "cell_type": "code",
   "execution_count": null,
   "id": "b4c51274-691e-4967-97fc-d754f354da76",
   "metadata": {},
   "outputs": [],
   "source": []
  },
  {
   "cell_type": "code",
   "execution_count": null,
   "id": "791a68b6-52b7-4333-84c2-bebfb9033deb",
   "metadata": {
    "jupyter": {
     "outputs_hidden": true
    },
    "tags": []
   },
   "outputs": [],
   "source": [
    "%time\n",
    "# now we can take care of the similarity matrix \n",
    "from natto import tools as nt \n",
    "import numpy as np\n",
    "\n",
    "np.seterr(all='raise')\n",
    "\n",
    "\n",
    "def distance(a,b, seed):\n",
    "    \n",
    "    ming = min(a.X.shape[0],b.X.shape[0])\n",
    "    n_obs = min(ming,2000)\n",
    "    if n_obs == ming:\n",
    "        print(a.X.shape, b.X.shape)\n",
    "    a2 = sc.pp.subsample(a, copy=True, n_obs = n_obs)\n",
    "    b2 = sc.pp.subsample(b, copy=True, n_obs = n_obs)\n",
    "    a2= process.annotate_genescores(a2, quiet = True)\n",
    "    b2=process.annotate_genescores(b2, quiet = True)\n",
    "    return nt.cosine(a2,b2,numgenes = 400)\n",
    "\n",
    "r = nt.apply_measures_mp(distance, annotated, repeats = 3)"
   ]
  },
  {
   "cell_type": "code",
   "execution_count": null,
   "id": "ebee4461-1a93-48e9-802f-e0a8d0121661",
   "metadata": {},
   "outputs": [],
   "source": [
    "import numpy as np\n",
    "r2 = np.mean(r, axis = 2)\n",
    "import seaborn as sns\n",
    "sns.heatmap(r2)"
   ]
  },
  {
   "cell_type": "code",
   "execution_count": null,
   "id": "a9b79407-f6fe-439c-8439-fc55e93a7425",
   "metadata": {
    "tags": []
   },
   "outputs": [],
   "source": [
    "from natto.optimize.plot import dendro\n",
    "\n",
    "shortnames = [n[:n.find('_')] for n in names]\n",
    "np.fill_diagonal(r2,0)\n",
    "dendro.manualclustermap(r2,shortnames, distancecut = .69)"
   ]
  },
  {
   "cell_type": "code",
   "execution_count": null,
   "id": "f8029461-0536-4e1b-8734-9e8b3dc3621b",
   "metadata": {},
   "outputs": [],
   "source": []
  },
  {
   "cell_type": "code",
   "execution_count": null,
   "id": "a2d4e5fc-02a2-438e-aa78-2ea44085a521",
   "metadata": {},
   "outputs": [],
   "source": [
    "from ubergauss import tools\n",
    "tools.dumpfile(r2, 'dist40.dmp')"
   ]
  },
  {
   "cell_type": "code",
   "execution_count": null,
   "id": "28a9a67f-7b7d-47f7-8e6a-508095a08eca",
   "metadata": {},
   "outputs": [],
   "source": []
  }
 ],
 "metadata": {
  "kernelspec": {
   "display_name": "Python 3 (ipykernel)",
   "language": "python",
   "name": "python3"
  },
  "language_info": {
   "codemirror_mode": {
    "name": "ipython",
    "version": 3
   },
   "file_extension": ".py",
   "mimetype": "text/x-python",
   "name": "python",
   "nbconvert_exporter": "python",
   "pygments_lexer": "ipython3",
   "version": "3.8.5"
  }
 },
 "nbformat": 4,
 "nbformat_minor": 5
}
