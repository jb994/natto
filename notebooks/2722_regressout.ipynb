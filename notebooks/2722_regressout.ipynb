{
 "cells": [
  {
   "cell_type": "code",
   "execution_count": null,
   "id": "db4468d8-8b09-4004-8175-2503af436ed0",
   "metadata": {},
   "outputs": [],
   "source": [
    "%load_ext autoreload\n",
    "%autoreload 2\n",
    "%config Completer.use_jedi = True\n",
    "\n",
    "import matplotlib as mpl\n",
    "mpl.rc(\"figure\", dpi=200)\n"
   ]
  },
  {
   "cell_type": "code",
   "execution_count": null,
   "id": "454bcf17-62bc-4c02-b711-cc35133fe180",
   "metadata": {},
   "outputs": [],
   "source": [
    "import statsmodels.api as sm\n",
    "from matplotlib import pyplot as plt"
   ]
  },
  {
   "cell_type": "code",
   "execution_count": null,
   "id": "ccddb59c-b2a9-49d6-9a1f-dfd52efced2f",
   "metadata": {},
   "outputs": [],
   "source": [
    "'''\n",
    "this is the code taht regresses out..\n",
    "\n",
    "col_index is the read colmn\n",
    "and regress is [1,1,...][genetotalread,genetoatlread,...]\n",
    "\n",
    "result = sm.GLM(\n",
    "                data_chunk[:, col_index], regres, family=sm.families.Gaussian()\n",
    "            ).fit()\n",
    "            new_column = result.resid_response\n",
    "'''\n",
    "\n",
    "import numpy as np\n",
    "\n",
    "def scat(X):\n",
    "    plt.scatter(X[:,0],X[:,1])\n",
    "    \n",
    "\n",
    "\n",
    "data = np.random.random((100,2))\n",
    "scat(data)\n",
    "data_chunk = np.array([1]*50 + [10]*50).reshape(-1,1)*data\n",
    "scat(data_chunk)\n",
    "sumz = np.sum(data_chunk, axis=1)\n",
    "regres = np.vstack([np.full_like(sumz.T, 1),sumz.T]).T\n",
    "\n",
    "refcols = []\n",
    "for col_index in [0,1]:\n",
    "    r = sm.GLM(\n",
    "                    data_chunk[:, col_index], regres, family=sm.families.Gaussian()\n",
    "                ).fit()\n",
    "    refcols.append(r.resid_response)\n",
    "    print(r.summary())\n",
    "    \n",
    "refined  = np.vstack(refcols).T\n",
    "scat(refined)   "
   ]
  },
  {
   "cell_type": "code",
   "execution_count": null,
   "id": "ac9100cd-ac6b-4245-a00b-f48200a45ac1",
   "metadata": {},
   "outputs": [],
   "source": [
    "from sklearn import datasets\n",
    "dia = datasets.load_diabetes(as_frame=True,scaled=False)\n",
    "import pandas as pd"
   ]
  },
  {
   "cell_type": "code",
   "execution_count": null,
   "id": "a053dfac-7c62-41a5-a604-35e02f1fd615",
   "metadata": {},
   "outputs": [],
   "source": [
    "f=dia['frame']\n",
    "f"
   ]
  },
  {
   "cell_type": "code",
   "execution_count": null,
   "id": "b5730033-b4e3-4afc-8684-f6f88258385c",
   "metadata": {},
   "outputs": [],
   "source": [
    "plt.scatter(f['age'],f['bmi']) "
   ]
  },
  {
   "cell_type": "code",
   "execution_count": null,
   "id": "36fa8212-aa86-41dd-ba79-63387365c569",
   "metadata": {},
   "outputs": [],
   "source": []
  }
 ],
 "metadata": {
  "kernelspec": {
   "display_name": "Python 3 (ipykernel)",
   "language": "python",
   "name": "python3"
  },
  "language_info": {
   "codemirror_mode": {
    "name": "ipython",
    "version": 3
   },
   "file_extension": ".py",
   "mimetype": "text/x-python",
   "name": "python",
   "nbconvert_exporter": "python",
   "pygments_lexer": "ipython3",
   "version": "3.8.5"
  }
 },
 "nbformat": 4,
 "nbformat_minor": 5
}
