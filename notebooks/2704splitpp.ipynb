{
 "cells": [
  {
   "cell_type": "markdown",
   "id": "02353cfe-1214-4839-9e9f-929a97c6c9d9",
   "metadata": {},
   "source": [
    "# Splitting Preprocessing "
   ]
  },
  {
   "cell_type": "code",
   "execution_count": null,
   "id": "fe2c615d-8802-4f71-9586-813936460067",
   "metadata": {},
   "outputs": [],
   "source": [
    "%load_ext autoreload\n",
    "%autoreload 2"
   ]
  },
  {
   "cell_type": "code",
   "execution_count": null,
   "id": "305b79d2-14ce-4697-b392-bee7c76d63b2",
   "metadata": {},
   "outputs": [],
   "source": [
    "from natto import input \n",
    "from natto import process\n",
    "\n",
    "names = input.get40names()[:3] \n",
    "data = [input.load100(n,path = '/home/ubuntu/repos/natto/natto/data', \n",
    "                      seed = 1337,  subsample = 1000) for n in names]\n",
    "\n",
    "\n",
    "annotated = [process.annotate_genescores(d) for d in data]\n",
    "\n",
    "z= process.merge(annotated)"
   ]
  },
  {
   "cell_type": "code",
   "execution_count": null,
   "id": "7da505bf-9a76-43d4-a5bb-d72435f0ec05",
   "metadata": {},
   "outputs": [],
   "source": [
    "from natto.out import draw \n",
    "draw.scatter(z, labels = 'true')"
   ]
  }
 ],
 "metadata": {
  "kernelspec": {
   "display_name": "Python 3 (ipykernel)",
   "language": "python",
   "name": "python3"
  },
  "language_info": {
   "codemirror_mode": {
    "name": "ipython",
    "version": 3
   },
   "file_extension": ".py",
   "mimetype": "text/x-python",
   "name": "python",
   "nbconvert_exporter": "python",
   "pygments_lexer": "ipython3",
   "version": "3.8.5"
  }
 },
 "nbformat": 4,
 "nbformat_minor": 5
}
