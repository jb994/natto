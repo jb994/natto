{
 "cells": [
  {
   "cell_type": "code",
   "execution_count": null,
   "id": "3c56cbad-0760-4c3b-b3f4-8ee04903d520",
   "metadata": {},
   "outputs": [],
   "source": [
    "# optimize pp and pca_number\n",
    "\n",
    "\n",
    "%load_ext autoreload\n",
    "%autoreload 2\n",
    "%config Completer.use_jedi = True\n",
    "\n",
    "import matplotlib as mpl\n",
    "mpl.rc(\"figure\", dpi=200)"
   ]
  },
  {
   "cell_type": "code",
   "execution_count": null,
   "id": "8c5257cb-d81b-4304-ab4b-dbc1b6a48656",
   "metadata": {},
   "outputs": [],
   "source": [
    "%time \n",
    "# load the data\n",
    "from natto import input \n",
    "from natto import process\n",
    "from ubergauss import tools\n",
    "import numpy as np\n",
    "\n",
    "dataset_names = input.get41names()#[:6]\n",
    "def load_and_score(n,preprocessingmethod='natto'):\n",
    "    data = input.load100(n,path = '/home/ubuntu/repos/natto/natto/data',remove_unlabeled=True)\n",
    "    gs = process.annotate_genescores(data, mingenes = 200, selector = preprocessingmethod)\n",
    "    #gs.X = np.expm1(gs.X)\n",
    "    return gs \n",
    "\n",
    "#annotated = \n",
    "from ubergauss import tools\n",
    "dists = tools.loadfile( 'dist41.dmp')\n",
    "#np.fill_diagonal(dists,-999)\n"
   ]
  },
  {
   "cell_type": "code",
   "execution_count": null,
   "id": "c98c25e0-7b4d-4db5-ab30-65ba0064abf4",
   "metadata": {},
   "outputs": [],
   "source": [
    "from natto.optimize.x40 import assign \n",
    "from sklearn.metrics import adjusted_rand_score\n",
    "from functools import partial\n",
    "import scanpy as sc\n",
    "\n",
    "def predictive_performance_estimate(dataset_pair):\n",
    "    data_target,data_source = dataset_pair\n",
    "    '''\n",
    "    propagate labels\n",
    "    score \n",
    "    '''\n",
    "    scores = []\n",
    "    for i in range(1):\n",
    "        subsampled_target = sc.pp.subsample(data_target, copy=True, n_obs = 1000)\n",
    "        subsampled_source = sc.pp.subsample(data_source, copy=True, n_obs = 1000)\n",
    "        merged_data=process.merge([subsampled_target,subsampled_source],umaps=[], pca=20, sortfield=1)\n",
    "\n",
    "        score = assign.diffuseandscore(merged_data.data[0].obs['true'],\n",
    "                                       merged_data.data[1].obs['true'],\n",
    "                                       merged_data.projections[1], \n",
    "                                       neighbors= 60)\n",
    "        \n",
    "        scores.append(score)\n",
    "    return np.mean(scores)\n",
    "    \n",
    "method_scores = []\n",
    "list_of_method = \"natto seurat_v3 cell_ranger seurat\".split()\n",
    "\n",
    "for method in list_of_methods[:1]:\n",
    "    f= partial(load_and_score, preprocessingmethod=method)\n",
    "    adataL = tools.xmap(f,dataset_names)\n",
    "    performance_scores = tools.xmap(predictive_performance_estimate, ((adataL[i], adataL[np.argmax(dists[i])])  for i in range(len(names)) ))\n",
    "    method_scores.append(np.mean(performance_scores))\n",
    "\n",
    "print(method_scores) "
   ]
  },
  {
   "cell_type": "code",
   "execution_count": null,
   "id": "467c0d0e-393a-410f-b5bc-2309c439923e",
   "metadata": {},
   "outputs": [],
   "source": []
  }
 ],
 "metadata": {
  "kernelspec": {
   "display_name": "Python 3 (ipykernel)",
   "language": "python",
   "name": "python3"
  },
  "language_info": {
   "codemirror_mode": {
    "name": "ipython",
    "version": 3
   },
   "file_extension": ".py",
   "mimetype": "text/x-python",
   "name": "python",
   "nbconvert_exporter": "python",
   "pygments_lexer": "ipython3",
   "version": "3.8.5"
  }
 },
 "nbformat": 4,
 "nbformat_minor": 5
}
