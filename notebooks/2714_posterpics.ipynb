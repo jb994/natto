{
 "cells": [
  {
   "cell_type": "code",
   "execution_count": null,
   "id": "796ec0db-a4d2-4477-b1d9-aa636b09bcda",
   "metadata": {},
   "outputs": [],
   "source": [
    "%load_ext autoreload\n",
    "%autoreload 2\n",
    "%config Completer.use_jedi = True\n",
    "\n",
    "\n",
    "import seaborn as sns\n",
    "\n",
    "import matplotlib as mpl\n",
    "mpl.rc(\"figure\", dpi=300)\n",
    "from matplotlib import pyplot as plt"
   ]
  },
  {
   "cell_type": "code",
   "execution_count": null,
   "id": "6a321bbe-7791-4466-a83a-6983b30bc41f",
   "metadata": {},
   "outputs": [],
   "source": [
    "# geneselection \n",
    "from natto import input\n",
    "import scanpy as sc\n",
    "sns.set_context(\"talk\")\n",
    "adata, _ = input.load3k6k(2000,31337,pathprefix = '/home/ubuntu/repos/HungarianClustering')\n",
    "sc.pp.normalize_total(adata, target_sum=1e4)\n",
    "sc.pp.log1p(adata)\n",
    "sc.pp.highly_variable_genes(adata, min_mean=0.0125, max_mean=3, min_disp=0.5)\n",
    "sc.pl.highly_variable_genes(adata,show=True)\n",
    "plt.show()"
   ]
  },
  {
   "cell_type": "code",
   "execution_count": null,
   "id": "0caaf4b1-f594-4f69-9978-b1a444abfc23",
   "metadata": {
    "tags": []
   },
   "outputs": [],
   "source": [
    "from natto.optimize.x40 import assign \n",
    "sns.set_context(\"poster\")\n",
    "assign.opti()"
   ]
  },
  {
   "cell_type": "code",
   "execution_count": null,
   "id": "e9c2ec58-a0eb-42ac-99e5-4af2a25cba1d",
   "metadata": {},
   "outputs": [],
   "source": [
    "from natto.optimize.x40 import assign \n",
    "sns.set_context(\"poster\")\n",
    "assign.printNBY()\n",
    "plt.savefig(\"ZOMG2.svg\")"
   ]
  },
  {
   "cell_type": "code",
   "execution_count": null,
   "id": "5c930479-4295-4610-86d7-4e0683a3adf0",
   "metadata": {},
   "outputs": [],
   "source": [
    "from natto.optimize.x40.x40 import plotsns, mkDfData\n",
    "from lmz import *\n",
    "jug = Range(50, 2000, 50)\n",
    "p = '/home/ubuntu/repos/natto/natto/optimize/x40/'\n",
    "\n",
    "\n",
    "sns.set_context(\"talk\")\n",
    "plotsns(mkDfData(jug,p+\"cosi\",\"Cosine similarity\"), wg= False)\n",
    "plt.savefig(\"cosi.svg\")"
   ]
  },
  {
   "cell_type": "code",
   "execution_count": null,
   "id": "66b31323-6d0f-49ba-a6a5-aec3229c1d14",
   "metadata": {},
   "outputs": [],
   "source": [
    "\n",
    "plotsns(mkDfData(jug,p+\"jacc\",\"Jaccard similarity\"), wg=False)\n",
    "plt.savefig(\"cosi2.svg\")"
   ]
  },
  {
   "cell_type": "code",
   "execution_count": null,
   "id": "8d8947cd-a28a-447a-bedd-ad7bd6f33756",
   "metadata": {},
   "outputs": [],
   "source": [
    "import natto.optimize.x40.x40_cellcnt as xcn\n",
    "from lmz import *\n",
    "p = '/home/ubuntu/repos/natto/natto/optimize/x40/'\n",
    "#sns.set_context(\"talk\")\n",
    "jug = Range(800,4001,400)\n",
    "xcn.plotsns(xcn.mkDfData(jug,p+\"cosi/500varcell\",\"Cosine similarity\"), wg= False)\n"
   ]
  },
  {
   "cell_type": "code",
   "execution_count": null,
   "id": "de32ceb0-df38-432e-b8cb-f7d757fb6a4d",
   "metadata": {},
   "outputs": [],
   "source": []
  },
  {
   "cell_type": "code",
   "execution_count": null,
   "id": "77cc75e1-298d-4dbb-8d66-989cfa3909f6",
   "metadata": {},
   "outputs": [],
   "source": [
    "xcn.plotsns(xcn.mkDfData(jug,p+\"jacc/1000varcell\",\"Jaccard similarity\"), wg = False)\n",
    "plt.savefig(\"cosi3.svg\")"
   ]
  },
  {
   "cell_type": "code",
   "execution_count": null,
   "id": "c79a117f-e079-4840-b669-4adad5d8fade",
   "metadata": {},
   "outputs": [],
   "source": [
    "from natto.optimize.x40 import x40_dmp as xd\n",
    "sns.set_style()\n",
    "xd.neighs(p+'cosi/500.dmp', draw=True)\n",
    "plt.grid(False)\n",
    "plt.savefig(\"ZOMG.svg\")"
   ]
  },
  {
   "cell_type": "code",
   "execution_count": null,
   "id": "7f9b335f-830d-4270-8b56-84bb1a71b557",
   "metadata": {},
   "outputs": [],
   "source": [
    "import  natto.optimize.x40.assign_test as at\n",
    "at.circles()"
   ]
  },
  {
   "cell_type": "code",
   "execution_count": null,
   "id": "69d06068-d5ab-4be8-9b76-a947c1830ad0",
   "metadata": {},
   "outputs": [],
   "source": []
  },
  {
   "cell_type": "code",
   "execution_count": null,
   "id": "efa1c578-2315-44ef-b628-d79c7607b7f8",
   "metadata": {},
   "outputs": [],
   "source": [
    "from natto import input\n",
    "import scanpy as sc\n",
    "from natto import process\n",
    "from natto.optimize.x40 import assign\n",
    "from lmz import *\n",
    "def getlabels(x):\n",
    "    return assign.cluster.gmm_1(x,nc=8)\n"
   ]
  },
  {
   "cell_type": "code",
   "execution_count": null,
   "id": "9593a174-1a34-4eec-a219-e220de803eba",
   "metadata": {},
   "outputs": [],
   "source": [
    "data= input.load3k6k(2000,31337,pathprefix = '/home/ubuntu/repos/HungarianClustering')\n",
    "data = process.Data().fit(list(data), visual_ftsel=False, sortfield=0)"
   ]
  },
  {
   "cell_type": "code",
   "execution_count": null,
   "id": "2d8f43ad-1ac3-40ea-b439-a76963fa8364",
   "metadata": {},
   "outputs": [],
   "source": [
    "\n",
    "\n",
    "sns.set_context(\"poster\")\n",
    "labels = Map(getlabels, data.projections[2])\n",
    "z=assign.confuse(*labels, draw=True)"
   ]
  },
  {
   "cell_type": "code",
   "execution_count": null,
   "id": "be841f2f-9d88-43f8-9d37-bee7934aa7fa",
   "metadata": {},
   "outputs": [],
   "source": [
    "z = assign.confuse(*labels, draw=True, norm =False)"
   ]
  },
  {
   "cell_type": "code",
   "execution_count": null,
   "id": "354f2464-60b4-44f3-80ef-d81b69442264",
   "metadata": {},
   "outputs": [],
   "source": [
    "from natto.out import draw\n",
    "draw.umap(data.projections[3][0], labels[0], show = False)\n",
    "plt.savefig('3k6k.svg')"
   ]
  },
  {
   "cell_type": "code",
   "execution_count": null,
   "id": "9b5e8e1a-9722-4283-a0e2-73abbd8c7bad",
   "metadata": {},
   "outputs": [],
   "source": [
    "# load the data\n",
    "from natto import input \n",
    "from natto import process\n",
    "from ubergauss import tools\n",
    "import numpy as np\n",
    "from natto.out import draw\n",
    "names = input.get41names()\n",
    "data = [input.load100(n,path = '/home/ubuntu/repos/natto/natto/data',remove_unlabeled=False, subsample=800) for n in names[:20]]"
   ]
  },
  {
   "cell_type": "code",
   "execution_count": null,
   "id": "9f4eeb46-d62b-4616-b0a3-7a04788a3374",
   "metadata": {},
   "outputs": [],
   "source": [
    "#mpl.use('AGG')\n",
    "import seaborn as sns\n",
    "sns.set_context('talk')\n",
    "sns.set_style(\"whitegrid\")\n",
    "for n in range(15):\n",
    "    data2 = process.Data().fit(data[n:n+2], visual_ftsel=False, sortfield=0)\n",
    "    labels = Map(getlabels, data2.projections[2])\n",
    "    draw.umap(data2.projections[3][0], labels[0], show = False)\n",
    "    plt.savefig(f'{n}.svg')\n",
    "    plt.show()\n",
    "    plt.close()"
   ]
  },
  {
   "cell_type": "code",
   "execution_count": null,
   "id": "4dde9bee-0559-459a-9f0c-cb88a25a207a",
   "metadata": {},
   "outputs": [],
   "source": [
    "sns.set_context(\"poster\")"
   ]
  },
  {
   "cell_type": "code",
   "execution_count": null,
   "id": "c1a636fd-6483-43f5-a396-205dd2477b6d",
   "metadata": {},
   "outputs": [],
   "source": [
    "sns.heatmap([[0,0.305,0.2],[.305,0,.2758],[.2,.2758,0]])"
   ]
  },
  {
   "cell_type": "code",
   "execution_count": null,
   "id": "1de7bf17-053c-4a0f-b5b2-b0ec96a7c831",
   "metadata": {},
   "outputs": [],
   "source": [
    "sns.heatmap([[0,0.14,0.128,0.097],[.14,0,.187,.125],[.128,.187,0,.16],[.097,.125,.16,0]])"
   ]
  },
  {
   "cell_type": "code",
   "execution_count": null,
   "id": "9d6fbee5-5784-4d10-9fd3-8c65ea5d2ec3",
   "metadata": {},
   "outputs": [],
   "source": [
    "sns.heatmap([[0,0.44,0.263,0.141],[.44,0,.4,.22],[.26,.4,0,.3866],[.141,.22,.3866,0]])"
   ]
  },
  {
   "cell_type": "code",
   "execution_count": null,
   "id": "3bf2935a-7b68-4492-bb5c-2d3835e7f626",
   "metadata": {},
   "outputs": [],
   "source": []
  }
 ],
 "metadata": {
  "kernelspec": {
   "display_name": "Python 3 (ipykernel)",
   "language": "python",
   "name": "python3"
  },
  "language_info": {
   "codemirror_mode": {
    "name": "ipython",
    "version": 3
   },
   "file_extension": ".py",
   "mimetype": "text/x-python",
   "name": "python",
   "nbconvert_exporter": "python",
   "pygments_lexer": "ipython3",
   "version": "3.8.5"
  }
 },
 "nbformat": 4,
 "nbformat_minor": 5
}
